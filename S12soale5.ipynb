{
  "cells": [
    {
      "cell_type": "markdown",
      "metadata": {
        "id": "view-in-github",
        "colab_type": "text"
      },
      "source": [
        "<a href=\"https://colab.research.google.com/github/fereshtehdehkhoda/Example43-RMSE--RFECVtest/blob/main/S12soale5.ipynb\" target=\"_parent\"><img src=\"https://colab.research.google.com/assets/colab-badge.svg\" alt=\"Open In Colab\"/></a>"
      ]
    },
    {
      "cell_type": "code",
      "execution_count": null,
      "id": "7c26b8cc-5ea7-4861-b98b-965cb14318d6",
      "metadata": {
        "id": "7c26b8cc-5ea7-4861-b98b-965cb14318d6"
      },
      "outputs": [],
      "source": [
        "#روی داده‌های آموزش hw12_train.csv یک مدل رگرسیون خطی ساده بسازید. شاخص RMSE روی داده‌های آزمایش hw12_test.csv چقدر است؟"
      ]
    },
    {
      "cell_type": "code",
      "execution_count": null,
      "id": "c0b79920-1e60-47ea-9cf7-a9adb3ee97f8",
      "metadata": {
        "id": "c0b79920-1e60-47ea-9cf7-a9adb3ee97f8"
      },
      "outputs": [],
      "source": [
        "import pandas as pd\n",
        "import numpy as np\n",
        "import matplotlib.pyplot as plt"
      ]
    },
    {
      "cell_type": "code",
      "execution_count": null,
      "id": "eae28310-9f8f-47f7-a4da-9a0be63ceddb",
      "metadata": {
        "id": "eae28310-9f8f-47f7-a4da-9a0be63ceddb"
      },
      "outputs": [],
      "source": [
        "data=pd.read_csv('hw12_train.csv')"
      ]
    },
    {
      "cell_type": "code",
      "execution_count": null,
      "id": "196efa7b-4094-470a-a950-fb97d1d614c4",
      "metadata": {
        "id": "196efa7b-4094-470a-a950-fb97d1d614c4",
        "outputId": "c80e0825-3361-418d-81a4-508a9c0bee89"
      },
      "outputs": [
        {
          "name": "stdout",
          "output_type": "stream",
          "text": [
            "<class 'pandas.core.frame.DataFrame'>\n",
            "RangeIndex: 350 entries, 0 to 349\n",
            "Data columns (total 2 columns):\n",
            " #   Column  Non-Null Count  Dtype  \n",
            "---  ------  --------------  -----  \n",
            " 0   x       350 non-null    float64\n",
            " 1   y       350 non-null    float64\n",
            "dtypes: float64(2)\n",
            "memory usage: 5.6 KB\n"
          ]
        }
      ],
      "source": [
        "data.info()"
      ]
    },
    {
      "cell_type": "code",
      "execution_count": null,
      "id": "056da8de-3d22-4164-bc1a-f7cb84d178d5",
      "metadata": {
        "id": "056da8de-3d22-4164-bc1a-f7cb84d178d5"
      },
      "outputs": [],
      "source": [
        "feature=[\"x\"]\n",
        "X_train=data[feature]\n",
        "\n",
        "target=\"y\"\n",
        "y_train=data[target]"
      ]
    },
    {
      "cell_type": "code",
      "execution_count": null,
      "id": "f4bfb605-b805-421f-a8a7-ceea4405eb02",
      "metadata": {
        "id": "f4bfb605-b805-421f-a8a7-ceea4405eb02"
      },
      "outputs": [],
      "source": [
        "from sklearn.linear_model import LinearRegression\n",
        "model_1=LinearRegression()\n",
        "model_1.fit(X_train,y_train)\n",
        "\n",
        "y_train_pred_1=model_1.predict(X_train)"
      ]
    },
    {
      "cell_type": "code",
      "execution_count": null,
      "id": "6d39304f-3ad5-4a2b-955f-30abb29fcc07",
      "metadata": {
        "id": "6d39304f-3ad5-4a2b-955f-30abb29fcc07"
      },
      "outputs": [],
      "source": [
        "#------------------------test------------"
      ]
    },
    {
      "cell_type": "code",
      "execution_count": null,
      "id": "24925b0a-3697-4da0-8f86-10d0d90ef86a",
      "metadata": {
        "id": "24925b0a-3697-4da0-8f86-10d0d90ef86a"
      },
      "outputs": [],
      "source": [
        "dtest=pd.read_csv('hw12_test.csv')"
      ]
    },
    {
      "cell_type": "code",
      "execution_count": null,
      "id": "596ca7fc-c75c-4c5a-8cb8-3104a389856e",
      "metadata": {
        "id": "596ca7fc-c75c-4c5a-8cb8-3104a389856e",
        "outputId": "529cdd01-69b3-44c6-b317-cd6828ed22f0"
      },
      "outputs": [
        {
          "name": "stdout",
          "output_type": "stream",
          "text": [
            "<class 'pandas.core.frame.DataFrame'>\n",
            "RangeIndex: 150 entries, 0 to 149\n",
            "Data columns (total 2 columns):\n",
            " #   Column  Non-Null Count  Dtype  \n",
            "---  ------  --------------  -----  \n",
            " 0   x       150 non-null    float64\n",
            " 1   y       150 non-null    float64\n",
            "dtypes: float64(2)\n",
            "memory usage: 2.5 KB\n"
          ]
        }
      ],
      "source": [
        "dtest.info()"
      ]
    },
    {
      "cell_type": "code",
      "execution_count": null,
      "id": "d73716f2-c3f0-4374-936f-ec49a0e28ce2",
      "metadata": {
        "id": "d73716f2-c3f0-4374-936f-ec49a0e28ce2"
      },
      "outputs": [],
      "source": [
        "feature_test=[\"x\"]\n",
        "X_test=dtest[feature_test]\n",
        "\n",
        "target_test=\"y\"\n",
        "y_test=dtest[target_test]"
      ]
    },
    {
      "cell_type": "code",
      "execution_count": null,
      "id": "b8817757-8259-493a-9aa4-8566b9f1717b",
      "metadata": {
        "id": "b8817757-8259-493a-9aa4-8566b9f1717b",
        "outputId": "056693ba-20de-4655-a3c6-93d71f17513d"
      },
      "outputs": [
        {
          "name": "stdout",
          "output_type": "stream",
          "text": [
            "RMSE: 1.119\n"
          ]
        }
      ],
      "source": [
        "y_test_pred_1=model_1.predict(X_test)\n",
        "from sklearn.metrics import root_mean_squared_error\n",
        "print(\"RMSE:\", round(root_mean_squared_error(y_test_pred_1,y_test),3))"
      ]
    },
    {
      "cell_type": "code",
      "execution_count": null,
      "id": "58ff7f31-913d-4133-8a8a-33a470ae266a",
      "metadata": {
        "id": "58ff7f31-913d-4133-8a8a-33a470ae266a"
      },
      "outputs": [],
      "source": []
    }
  ],
  "metadata": {
    "kernelspec": {
      "display_name": "Python 3 (ipykernel)",
      "language": "python",
      "name": "python3"
    },
    "language_info": {
      "codemirror_mode": {
        "name": "ipython",
        "version": 3
      },
      "file_extension": ".py",
      "mimetype": "text/x-python",
      "name": "python",
      "nbconvert_exporter": "python",
      "pygments_lexer": "ipython3",
      "version": "3.12.4"
    },
    "colab": {
      "provenance": [],
      "include_colab_link": true
    }
  },
  "nbformat": 4,
  "nbformat_minor": 5
}