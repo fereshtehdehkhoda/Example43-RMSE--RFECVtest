{
  "cells": [
    {
      "cell_type": "markdown",
      "metadata": {
        "id": "view-in-github",
        "colab_type": "text"
      },
      "source": [
        "<a href=\"https://colab.research.google.com/github/fereshtehdehkhoda/Example43-RMSE-test/blob/main/S12soale6.ipynb\" target=\"_parent\"><img src=\"https://colab.research.google.com/assets/colab-badge.svg\" alt=\"Open In Colab\"/></a>"
      ]
    },
    {
      "cell_type": "code",
      "execution_count": null,
      "id": "35398938-ed8c-4917-b367-93ca7e38dd64",
      "metadata": {
        "id": "35398938-ed8c-4917-b367-93ca7e38dd64"
      },
      "outputs": [],
      "source": [
        "#روی داده‌های آموزش hw12_train.csv یک مدل رگرسیون چندجمله‌ای (Polynomial Regression) بسازید. برای این منظور توان‌های 2، 3 ،4 و 5 متغیر x را بعنوان ویژگی‌های جدید به ماتریس ویژگی‌ها اضافه کنید. سپس از الگوریتم RFECV برای انتخاب ویژگی‌ها استفاده کنید. برای بهترین مدل شاخص RMSE روی داده‌های آموزش چقدر اس"
      ]
    },
    {
      "cell_type": "code",
      "execution_count": null,
      "id": "606b4e10-eea8-46be-97fb-2f7b06823546",
      "metadata": {
        "id": "606b4e10-eea8-46be-97fb-2f7b06823546"
      },
      "outputs": [],
      "source": [
        "import pandas as pd\n",
        "import numpy as np\n",
        "import matplotlib.pyplot as plt"
      ]
    },
    {
      "cell_type": "code",
      "execution_count": null,
      "id": "8a169083-dee9-4b06-8a0e-e43b3135eedf",
      "metadata": {
        "id": "8a169083-dee9-4b06-8a0e-e43b3135eedf"
      },
      "outputs": [],
      "source": [
        "data=pd.read_csv('hw12_train.csv')"
      ]
    },
    {
      "cell_type": "code",
      "execution_count": null,
      "id": "a6cf757f-2253-47a2-af06-a2498583891c",
      "metadata": {
        "id": "a6cf757f-2253-47a2-af06-a2498583891c",
        "outputId": "46df92c7-8bc1-4bac-c521-50b8146143bd"
      },
      "outputs": [
        {
          "data": {
            "text/html": [
              "<div>\n",
              "<style scoped>\n",
              "    .dataframe tbody tr th:only-of-type {\n",
              "        vertical-align: middle;\n",
              "    }\n",
              "\n",
              "    .dataframe tbody tr th {\n",
              "        vertical-align: top;\n",
              "    }\n",
              "\n",
              "    .dataframe thead th {\n",
              "        text-align: right;\n",
              "    }\n",
              "</style>\n",
              "<table border=\"1\" class=\"dataframe\">\n",
              "  <thead>\n",
              "    <tr style=\"text-align: right;\">\n",
              "      <th></th>\n",
              "      <th>x</th>\n",
              "      <th>y</th>\n",
              "      <th>x^2</th>\n",
              "      <th>x^3</th>\n",
              "      <th>x^4</th>\n",
              "      <th>x^5</th>\n",
              "    </tr>\n",
              "  </thead>\n",
              "  <tbody>\n",
              "    <tr>\n",
              "      <th>0</th>\n",
              "      <td>3.743487</td>\n",
              "      <td>4.820521</td>\n",
              "      <td>14.013695</td>\n",
              "      <td>52.460084</td>\n",
              "      <td>1.963836e+02</td>\n",
              "      <td>7.351596e+02</td>\n",
              "    </tr>\n",
              "    <tr>\n",
              "      <th>1</th>\n",
              "      <td>-0.024048</td>\n",
              "      <td>2.431046</td>\n",
              "      <td>0.000578</td>\n",
              "      <td>-0.000014</td>\n",
              "      <td>3.344435e-07</td>\n",
              "      <td>-8.042730e-09</td>\n",
              "    </tr>\n",
              "    <tr>\n",
              "      <th>2</th>\n",
              "      <td>-2.380762</td>\n",
              "      <td>-1.940559</td>\n",
              "      <td>5.668025</td>\n",
              "      <td>-13.494217</td>\n",
              "      <td>3.212651e+01</td>\n",
              "      <td>-7.648556e+01</td>\n",
              "    </tr>\n",
              "    <tr>\n",
              "      <th>3</th>\n",
              "      <td>1.242485</td>\n",
              "      <td>5.107434</td>\n",
              "      <td>1.543769</td>\n",
              "      <td>1.918110</td>\n",
              "      <td>2.383222e+00</td>\n",
              "      <td>2.961118e+00</td>\n",
              "    </tr>\n",
              "    <tr>\n",
              "      <th>4</th>\n",
              "      <td>2.749499</td>\n",
              "      <td>6.840937</td>\n",
              "      <td>7.559745</td>\n",
              "      <td>20.785511</td>\n",
              "      <td>5.714974e+01</td>\n",
              "      <td>1.571332e+02</td>\n",
              "    </tr>\n",
              "    <tr>\n",
              "      <th>...</th>\n",
              "      <td>...</td>\n",
              "      <td>...</td>\n",
              "      <td>...</td>\n",
              "      <td>...</td>\n",
              "      <td>...</td>\n",
              "      <td>...</td>\n",
              "    </tr>\n",
              "    <tr>\n",
              "      <th>345</th>\n",
              "      <td>-0.729459</td>\n",
              "      <td>2.133795</td>\n",
              "      <td>0.532110</td>\n",
              "      <td>-0.388153</td>\n",
              "      <td>2.831414e-01</td>\n",
              "      <td>-2.065400e-01</td>\n",
              "    </tr>\n",
              "    <tr>\n",
              "      <th>346</th>\n",
              "      <td>-3.150301</td>\n",
              "      <td>-1.716658</td>\n",
              "      <td>9.924394</td>\n",
              "      <td>-31.264824</td>\n",
              "      <td>9.849359e+01</td>\n",
              "      <td>-3.102844e+02</td>\n",
              "    </tr>\n",
              "    <tr>\n",
              "      <th>347</th>\n",
              "      <td>0.713427</td>\n",
              "      <td>3.332171</td>\n",
              "      <td>0.508978</td>\n",
              "      <td>0.363118</td>\n",
              "      <td>2.590585e-01</td>\n",
              "      <td>1.848193e-01</td>\n",
              "    </tr>\n",
              "    <tr>\n",
              "      <th>348</th>\n",
              "      <td>-0.617234</td>\n",
              "      <td>2.756426</td>\n",
              "      <td>0.380978</td>\n",
              "      <td>-0.235153</td>\n",
              "      <td>1.451445e-01</td>\n",
              "      <td>-8.958821e-02</td>\n",
              "    </tr>\n",
              "    <tr>\n",
              "      <th>349</th>\n",
              "      <td>0.857715</td>\n",
              "      <td>5.310843</td>\n",
              "      <td>0.735676</td>\n",
              "      <td>0.631000</td>\n",
              "      <td>5.412188e-01</td>\n",
              "      <td>4.642117e-01</td>\n",
              "    </tr>\n",
              "  </tbody>\n",
              "</table>\n",
              "<p>350 rows × 6 columns</p>\n",
              "</div>"
            ],
            "text/plain": [
              "            x         y        x^2        x^3           x^4           x^5\n",
              "0    3.743487  4.820521  14.013695  52.460084  1.963836e+02  7.351596e+02\n",
              "1   -0.024048  2.431046   0.000578  -0.000014  3.344435e-07 -8.042730e-09\n",
              "2   -2.380762 -1.940559   5.668025 -13.494217  3.212651e+01 -7.648556e+01\n",
              "3    1.242485  5.107434   1.543769   1.918110  2.383222e+00  2.961118e+00\n",
              "4    2.749499  6.840937   7.559745  20.785511  5.714974e+01  1.571332e+02\n",
              "..        ...       ...        ...        ...           ...           ...\n",
              "345 -0.729459  2.133795   0.532110  -0.388153  2.831414e-01 -2.065400e-01\n",
              "346 -3.150301 -1.716658   9.924394 -31.264824  9.849359e+01 -3.102844e+02\n",
              "347  0.713427  3.332171   0.508978   0.363118  2.590585e-01  1.848193e-01\n",
              "348 -0.617234  2.756426   0.380978  -0.235153  1.451445e-01 -8.958821e-02\n",
              "349  0.857715  5.310843   0.735676   0.631000  5.412188e-01  4.642117e-01\n",
              "\n",
              "[350 rows x 6 columns]"
            ]
          },
          "execution_count": 7,
          "metadata": {},
          "output_type": "execute_result"
        }
      ],
      "source": [
        "#data['x^2']=data['x']**2\n",
        "data['x^3']=data['x']**3\n",
        "data['x^4']=data['x']**4\n",
        "data['x^5']=data['x']**5"
      ]
    },
    {
      "cell_type": "code",
      "execution_count": null,
      "id": "806159ec-73ce-4d83-9a62-7e81d94c4c7f",
      "metadata": {
        "id": "806159ec-73ce-4d83-9a62-7e81d94c4c7f"
      },
      "outputs": [],
      "source": [
        "features=['x','x^2','x^3','x^4','x^5']\n",
        "X_train=data[features]\n",
        "\n",
        "target='y'\n",
        "y_train=data[target]"
      ]
    },
    {
      "cell_type": "code",
      "execution_count": null,
      "id": "6ffe7bb6-4300-4156-b130-f472e840c5b4",
      "metadata": {
        "id": "6ffe7bb6-4300-4156-b130-f472e840c5b4"
      },
      "outputs": [],
      "source": [
        "from sklearn.preprocessing import StandardScaler\n",
        "scaler=StandardScaler()\n",
        "X_train_scaled=scaler.fit_transform(X_train)"
      ]
    },
    {
      "cell_type": "code",
      "execution_count": null,
      "id": "9367d64a-3347-450b-bdaf-8f62bf7adc94",
      "metadata": {
        "id": "9367d64a-3347-450b-bdaf-8f62bf7adc94",
        "outputId": "467f6a55-6e79-4faf-a680-ff6a8d04b668"
      },
      "outputs": [
        {
          "data": {
            "text/plain": [
              "(array([0, 1, 2], dtype=int64),)"
            ]
          },
          "execution_count": 19,
          "metadata": {},
          "output_type": "execute_result"
        }
      ],
      "source": [
        "from sklearn.linear_model import LinearRegression\n",
        "from sklearn.feature_selection import RFECV\n",
        "rfe=RFECV(LinearRegression(),cv=10,scoring='neg_root_mean_squared_error')\n",
        "rfe.fit(X_train_scaled,y_train)\n",
        "selected_feature_ind=np.where(rfe.support_)\n",
        "selected_feature_ind"
      ]
    },
    {
      "cell_type": "code",
      "execution_count": null,
      "id": "fd00061b-9d13-4421-b48a-addb7932e9a2",
      "metadata": {
        "id": "fd00061b-9d13-4421-b48a-addb7932e9a2",
        "outputId": "457290fd-c372-40c2-8858-e81202b50b4b"
      },
      "outputs": [
        {
          "name": "stdout",
          "output_type": "stream",
          "text": [
            "RMSE 0.709\n"
          ]
        }
      ],
      "source": [
        "model_2=LinearRegression()\n",
        "model_2.fit(X_train_scaled[:,selected_feature_ind[0]],y_train)\n",
        "\n",
        "y_train_pred_2=model_2.predict(X_train_scaled[:,selected_feature_ind[0]])\n",
        "\n",
        "from sklearn.metrics import root_mean_squared_error\n",
        "print(\"RMSE\",round(root_mean_squared_error(y_train,y_train_pred_2),3))"
      ]
    },
    {
      "cell_type": "code",
      "execution_count": null,
      "id": "c2a6e40a-6b8e-469b-a4a1-2fc98ebf02e3",
      "metadata": {
        "id": "c2a6e40a-6b8e-469b-a4a1-2fc98ebf02e3"
      },
      "outputs": [],
      "source": [
        "#soale7"
      ]
    },
    {
      "cell_type": "code",
      "execution_count": null,
      "id": "2aefd680-1b6c-4e5d-890d-401907811f3b",
      "metadata": {
        "id": "2aefd680-1b6c-4e5d-890d-401907811f3b"
      },
      "outputs": [],
      "source": [
        "dtest=pd.read_csv('hw12_test.csv')"
      ]
    },
    {
      "cell_type": "code",
      "execution_count": null,
      "id": "8b31f33c-d364-4c89-b2d0-8d9301b46c21",
      "metadata": {
        "id": "8b31f33c-d364-4c89-b2d0-8d9301b46c21"
      },
      "outputs": [],
      "source": [
        "dtest['x^2']=dtest['x']**2\n",
        "dtest['x^3']=dtest['x']**3\n",
        "dtest['x^4']=dtest['x']**4\n",
        "dtest['x^5']=dtest['x']**5"
      ]
    },
    {
      "cell_type": "code",
      "execution_count": null,
      "id": "f0a81285-fed3-49a1-89ad-e6f3e5aa8932",
      "metadata": {
        "id": "f0a81285-fed3-49a1-89ad-e6f3e5aa8932"
      },
      "outputs": [],
      "source": [
        "features=['x','x^2','x^3','x^4','x^5']\n",
        "X_test=dtest[features]\n",
        "\n",
        "target='y'\n",
        "y_test=dtest[target]"
      ]
    },
    {
      "cell_type": "code",
      "execution_count": null,
      "id": "717ddd6f-57c6-4c99-b343-8f6aa8d1e594",
      "metadata": {
        "id": "717ddd6f-57c6-4c99-b343-8f6aa8d1e594",
        "outputId": "86be7c56-5cb3-44cc-a522-8d59a83e7999"
      },
      "outputs": [
        {
          "name": "stdout",
          "output_type": "stream",
          "text": [
            "RMSE: 0.685\n"
          ]
        }
      ],
      "source": [
        "X_test_scaled=scaler.transform(X_test)\n",
        "y_test_pred_2=model_2.predict(X_test_scaled[:,selected_feature_ind[0]])\n",
        "\n",
        "print(\"RMSE:\",round(root_mean_squared_error(y_test,y_test_pred_2),3))"
      ]
    },
    {
      "cell_type": "code",
      "execution_count": null,
      "id": "09135697-a262-4e12-b826-707484f78f58",
      "metadata": {
        "id": "09135697-a262-4e12-b826-707484f78f58"
      },
      "outputs": [],
      "source": []
    }
  ],
  "metadata": {
    "kernelspec": {
      "display_name": "Python 3 (ipykernel)",
      "language": "python",
      "name": "python3"
    },
    "language_info": {
      "codemirror_mode": {
        "name": "ipython",
        "version": 3
      },
      "file_extension": ".py",
      "mimetype": "text/x-python",
      "name": "python",
      "nbconvert_exporter": "python",
      "pygments_lexer": "ipython3",
      "version": "3.12.4"
    },
    "colab": {
      "provenance": [],
      "include_colab_link": true
    }
  },
  "nbformat": 4,
  "nbformat_minor": 5
}